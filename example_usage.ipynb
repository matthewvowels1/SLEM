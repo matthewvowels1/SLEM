{
 "cells": [
  {
   "cell_type": "code",
   "execution_count": 2,
   "id": "ba36ebea",
   "metadata": {},
   "outputs": [],
   "source": [
    "import slem\n",
    "from slem import DAGLearner\n",
    "import pandas as pd\n",
    "import os\n",
    "import tqdm\n",
    "import networkx as nx \n",
    "import numpy as np \n",
    "import matplotlib.pyplot as plt\n",
    "from networkx.drawing.nx_agraph import graphviz_layout"
   ]
  },
  {
   "cell_type": "markdown",
   "id": "887094a2",
   "metadata": {},
   "source": [
    "# DAGLearner\n",
    "\n",
    "DAGLearner takes in some data and a DAG (as a networkx graph) and implements SuperLearners for every variable with parents in that DAG.\n",
    "\n",
    "This enables one to perform effect-size estimation without the usual constraints on functional form associated with (linear) path models / structural equation models.\n",
    "\n",
    "What users need: \n",
    "\n",
    "- a dataset\n",
    "- a dag\n",
    "- a list of variable types (continuous='cont', binary='bin', categorical='cat')\n",
    "\n",
    "What DAGLearner does:\n",
    "\n",
    "- estimates all causal links with SuperLearners  (or optional linear/logistic baseline)\n",
    "- runs hyperparameter tuning (optional)\n",
    "- provides ATE estimates for all paths in the model\n",
    "- provides estimates for any given intervention\n",
    "\n",
    "\n",
    "This code also provides ways to integrate it into a pipeline with bootstrapping and plotting, for tutorial purposes.\n"
   ]
  },
  {
   "cell_type": "markdown",
   "id": "894f6d13",
   "metadata": {},
   "source": [
    "## Import Data, DAG, Causal Ordering, and Variable Types"
   ]
  },
  {
   "cell_type": "code",
   "execution_count": 3,
   "id": "16bfd18f",
   "metadata": {},
   "outputs": [],
   "source": [
    "def sigm(x):\n",
    "    return 1/(1 + np.exp(-x))\n",
    "\n",
    "def inv_sigm(x):\n",
    "    return np.log(x/(1-x))\n",
    "\n",
    "    \n",
    "def generate_data(N):\n",
    "    ''' This function generates a dictionary of data and a DAG'''\n",
    "    z1 = np.random.binomial(1, 0.5, (N, 1))\n",
    "    z2 = np.random.binomial(1, 0.65, (N, 1))\n",
    "    z3 = np.round(np.random.uniform(0, 4, (N, 1)), 0)\n",
    "    z4 = np.round(np.random.uniform(0, 5, (N, 1)), 0)\n",
    "    uz5 = np.random.randn(N, 1)\n",
    "    z5 = 0.2 * z1 + uz5\n",
    "\n",
    "    # risk vars:\n",
    "    r1 = np.random.randn(N, 1)\n",
    "    r2 = np.random.randn(N, 1)\n",
    "    RM = np.random.randn(N, 1)\n",
    "\n",
    "    # instrumental vars:\n",
    "    i1 = np.random.randn(N, 1)\n",
    "    i2 = np.random.randn(N, 1)\n",
    "\n",
    "    # treatment:\n",
    "    ux = np.random.randn(N, 1)\n",
    "    xp = sigm(-5 + 0.05 * z2 + 0.25 * z3 + 0.6 * z4 + 0.4 * z2 * z4 + 0.15 * z5 + 0.1 * i1 + 0.15 * i2 + 0.1 * ux)\n",
    "    X = np.random.binomial(1, xp, (N, 1))\n",
    "\n",
    "    # mediator:\n",
    "    Um = np.random.randn(N, 1)\n",
    "    \n",
    "    # m = 0.8*X + 0.3*Rm*X + 0.15*5Um\n",
    "    m1 = 0.8 + 0.15 *RM + 0.15 * Um\n",
    "    m0 = 0.15 * Um\n",
    "    M = m1 * X + m0 * (1 - X)\n",
    "    # outcomes:\n",
    "    Y1 = -1 + 0.3 + m1 - 0.1 * z1 + 0.35 * z2 + 0.25 * z3 + 0.2 * z4 + 0.15 * z2 * z4 + r1 + r2\n",
    "    Y0 = -1 + m0 - 0.1 * z1 + 0.35 * z2 + 0.25 * z3 + 0.2 * z4 + 0.15 * z2 * z4 + r1 + r2\n",
    "    Y = Y1 * X + Y0 * (1 - X)\n",
    "\n",
    "     # colliders:\n",
    "    C = 0.6 * Y + 0.4 * X + 0.4 * np.random.randn(N, 1)\n",
    "\n",
    "    all_data = pd.DataFrame(np.concatenate([z1, z2, z3, z4, z5, RM, X, M, i1, i2, r1, r2, Y, C], 1))\n",
    "    all_data.columns = ['Z1', 'Z2', 'Z3', 'Z4', 'Z5', 'RM', 'X', 'M', 'I1', 'I2', 'R1', 'R2', 'Y', 'C']\n",
    "\n",
    "    # types can be 'cat' (categorical) 'cont' (continuous) or 'bin' (binary)\n",
    "    var_types = {'Z1': 'cont', 'Z2': 'cont', 'Z3': 'cont', 'Z4': 'cont', 'Z5': 'cont', 'X': 'bin', 'M': 'cont', 'I1': 'cont',\n",
    "                     'RM': 'cont', 'I2': 'cont', 'R1': 'cont', 'R2': 'cont', 'Y': 'cont', 'C': 'cont'}\n",
    "    DAGnx = nx.DiGraph()\n",
    "    DAGnx.add_edges_from([('Z1', 'Z5'), ('Z2', 'X'), ('Z3', 'X'), ('Z4', 'X'), ('Z5', 'X'),\n",
    "                          ('Z2', 'Y'), ('Z3', 'Y'), ('Z4', 'Y'), ('Z5', 'Y'),\n",
    "                          ('R1', 'Y'), ('R2', 'Y'), ('M', 'Y'),('RM', 'M'),\n",
    "                          ('I1', 'X'), ('I2', 'X'), ('X', 'M'), ('X', 'Y'), ('X', 'C'),\n",
    "                          ('Y', 'C')])\n",
    "    return all_data, DAGnx, var_types, m1, m0"
   ]
  },
  {
   "cell_type": "code",
   "execution_count": 4,
   "id": "451e1f70",
   "metadata": {},
   "outputs": [
    {
     "name": "stdout",
     "output_type": "stream",
     "text": [
      "X - > M effect: 0.7883376674233898\n"
     ]
    },
    {
     "data": {
      "image/png": "[encoded data removed]",
      "text/plain": [
       "<Figure size 432x288 with 1 Axes>"
      ]
     },
     "metadata": {},
     "output_type": "display_data"
    }
   ],
   "source": [
    "N = 600  # sample size\n",
    "seed = 42  # random seed\n",
    "np.random.seed(seed=seed)\n",
    "\n",
    "df, DAG, var_types, m1, m0 = generate_data(N)\n",
    "\n",
    "# we will use the effect of X -> M as an example intervention throughout \n",
    "# but remember that you can specify multiple interventions <simultaneously>\n",
    "true_empirical_effect_xm = (m1 - m0).mean()\n",
    "print('X - > M effect:', true_empirical_effect_xm)\n",
    "# get a plot:\n",
    "\n",
    "for layer, nodes in enumerate(nx.topological_generations(DAG)):\n",
    "    # `multipartite_layout` expects the layer as a node attribute, so add the\n",
    "    # numeric layer value as a node attribute\n",
    "    for node in nodes:\n",
    "        DAG.nodes[node][\"layer\"] = layer\n",
    "        \n",
    "pos = nx.multipartite_layout(DAG, subset_key=\"layer\")\n",
    "fig, ax = plt.subplots()\n",
    "nx.draw_networkx(DAG, pos=pos, ax=ax)\n",
    "ax.set_title(\"DAG layout in topological order\")\n",
    "fig.tight_layout()\n",
    "plt.show()"
   ]
  },
  {
   "cell_type": "markdown",
   "id": "4a2b2cd4",
   "metadata": {},
   "source": [
    "## Simple DAGLearner Usage"
   ]
  },
  {
   "cell_type": "code",
   "execution_count": 5,
   "id": "249cbdf5",
   "metadata": {},
   "outputs": [
    {
     "name": "stdout",
     "output_type": "stream",
     "text": [
      "Training model for var: Z5\n",
      "r2 : 0.009668136733157695\n",
      "mae : 0.7698599291633488\n",
      "mse : 0.9332529846041436\n",
      "expl_var : 0.009668526838534697\n",
      "medae : 0.6486154155770804\n",
      "Training model for var: X\n",
      "acc : 0.8733333333333333\n",
      "balacc : 0.6352993573837247\n",
      "prec : 0.7297297297297297\n",
      "rec : 0.2903225806451613\n",
      "f1 : 0.41538461538461535\n",
      "Training model for var: M\n",
      "r2 : 0.7595207272469991\n",
      "mae : 0.12717865163852146\n",
      "mse : 0.024915049110845876\n",
      "expl_var : 0.7595230671212957\n",
      "medae : 0.1101697996751842\n",
      "Training model for var: Y\n",
      "r2 : 0.999271967500497\n",
      "mae : 0.046504983011086194\n",
      "mse : 0.0023179323239785614\n",
      "expl_var : 0.9992719724572913\n",
      "medae : 0.04742905407402753\n",
      "Training model for var: C\n",
      "r2 : 0.8839179998439766\n",
      "mae : 0.32794492620560434\n",
      "mse : 0.17106970559698248\n",
      "expl_var : 0.8839182581460808\n",
      "medae : 0.283767980456277\n"
     ]
    }
   ],
   "source": [
    "# initialise the daglearner with a list of learners:\n",
    "\n",
    "# Elastic -> elastic net https://scikit-learn.org/stable/modules/generated/sklearn.linear_model.ElasticNet.html\n",
    "# LR -> linear or logistic regression https://scikit-learn.org/stable/modules/generated/sklearn.linear_model.LogisticRegression.html\n",
    "# MLP -> Multi Layer Perceptron https://scikit-learn.org/stable/modules/generated/sklearn.neural_network.MLPClassifier.html\n",
    "# SV -> Support Vector Machine https://scikit-learn.org/stable/modules/svm.html\n",
    "# AB -> AdaBoost https://scikit-learn.org/stable/modules/generated/sklearn.ensemble.AdaBoostClassifier.html\n",
    "# RF -> Random Forest https://scikit-learn.org/stable/modules/generated/sklearn.ensemble.RandomForestRegressor.html\n",
    "# BR -> Bayesian Regression / Naive Bayes https://scikit-learn.org/stable/modules/generated/sklearn.linear_model.BayesianRidge.html\n",
    "# poly -> polynomial regression https://scikit-learn.org/stable/modules/generated/sklearn.preprocessing.PolynomialFeatures.html\n",
    "\n",
    "learner_list = ['Elastic', 'LR', 'MLP', 'SV', 'AB', 'RF', 'BR', 'poly']\n",
    "\n",
    "# select k for the number of k-fold splits to do as part of k-CV:\n",
    "k = 6\n",
    "daglearner = DAGLearner(dag=DAG,  var_types=var_types, k=k)\n",
    "\n",
    "# fit the superlearners:\n",
    "daglearner.fit(data=df, verbose=True)\n",
    "\n",
    "# estimate all ATEs for do(0) and do(1) interventions:\n",
    "ATEs = daglearner.get_0_1_ATE(data=df)\n",
    "\n",
    "# estimate specific inteventions and update dataset with result:\n",
    "int_val_nodes = {'X': 0}\n",
    "interventional_dataset0 = daglearner.infer(data=df, intervention_nodes_vals=int_val_nodes)\n",
    "\n",
    "int_val_nodes = {'X': 1}\n",
    "interventional_dataset1 = daglearner.infer(data=df, intervention_nodes_vals=int_val_nodes)\n",
    "\n",
    " "
   ]
  },
  {
   "cell_type": "markdown",
   "id": "e36fef8b",
   "metadata": {},
   "source": [
    "## Checking Results\n",
    "\n",
    "As we generated the data we know the ground-truth effect sizes.\n"
   ]
  },
  {
   "cell_type": "code",
   "execution_count": 6,
   "id": "b31fa5dc",
   "metadata": {},
   "outputs": [
    {
     "name": "stdout",
     "output_type": "stream",
     "text": [
      "Estimated effect: 0.768  True effect: 0.7883376674233898  Error on ATE:  0.02\n"
     ]
    }
   ],
   "source": [
    "# estimate specific inteventions and update dataset with result:\n",
    "int_val_nodes = {'X': 0}  # (you can add more to this dict)\n",
    "interventional_dataset0 = daglearner.infer(data=df, intervention_nodes_vals=int_val_nodes)\n",
    "\n",
    "int_val_nodes = {'X': 1}  # (you can add more to this dict)\n",
    "interventional_dataset1 = daglearner.infer(data=df, intervention_nodes_vals=int_val_nodes)\n",
    "\n",
    "# get average results of interventions\n",
    "ATE_dataset =  np.round((interventional_dataset1 - interventional_dataset0).mean(), 3)\n",
    "\n",
    "print('Estimated effect:', ATE_dataset['M'], ' True effect:', true_empirical_effect_xm,\n",
    "      ' Error on ATE: ', np.round(abs(ATE_dataset['M'] - true_empirical_effect_xm), 3))"
   ]
  },
  {
   "cell_type": "markdown",
   "id": "3e1af23c",
   "metadata": {},
   "source": [
    "## Baseline Performance\n",
    "DAGLearner has the option to use linear/logistic models for everything.\n",
    "\n",
    "Just set baseline=True when instantiating a DAGLearner object.\n",
    "\n",
    "In this case, because the DGP is linear (besides one moderation effect), we expect this to perform very well.\n"
   ]
  },
  {
   "cell_type": "code",
   "execution_count": 7,
   "id": "3bdeabe4",
   "metadata": {},
   "outputs": [
    {
     "name": "stdout",
     "output_type": "stream",
     "text": [
      "Training model for var: Z5\n",
      "r2 : 0.0096700649588074\n",
      "mae : 0.769851896474947\n",
      "mse : 0.9332511675139245\n",
      "expl_var : 0.00967006495880729\n",
      "medae : 0.648225332664017\n",
      "Training model for var: X\n",
      "acc : 0.865\n",
      "balacc : 0.6259782401221607\n",
      "prec : 0.65\n",
      "rec : 0.27956989247311825\n",
      "f1 : 0.39097744360902253\n",
      "Training model for var: M\n",
      "r2 : 0.7325650142109936\n",
      "mae : 0.1338931204686068\n",
      "mse : 0.02770781751213656\n",
      "expl_var : 0.7325650142109936\n",
      "medae : 0.11169682045343739\n",
      "Training model for var: Y\n",
      "r2 : 0.9955774066634112\n",
      "mae : 0.09573977698508473\n",
      "mse : 0.014080789055007158\n",
      "expl_var : 0.9955774066634112\n",
      "medae : 0.0862796506262633\n",
      "Training model for var: C\n",
      "r2 : 0.8806501259216029\n",
      "mae : 0.3331796991820996\n",
      "mse : 0.17588556188027468\n",
      "expl_var : 0.8806501259216029\n",
      "medae : 0.278166501713033\n",
      "Estimated effect: 0.761  True effect: 0.7883376674233898  Error on ATE:  0.027\n"
     ]
    }
   ],
   "source": [
    "# select k for the number of k-fold splits to do as part of k-CV:\n",
    "k = 6\n",
    "\n",
    "# initialise the daglearner with linear/logistic models:\n",
    "daglearner = DAGLearner(dag=DAG, k = k, var_types=var_types, baseline=True)\n",
    "\n",
    "# fit the daglearner:\n",
    "daglearner.fit(data=df, verbose=True)\n",
    "\n",
    "# estimate specific inteventions and update dataset with result:\n",
    "int_val_nodes = {'X': 0}\n",
    "interventional_dataset0 = daglearner.infer(data=df, intervention_nodes_vals=int_val_nodes)\n",
    "\n",
    "int_val_nodes = {'X': 1}\n",
    "interventional_dataset1 = daglearner.infer(data=df, intervention_nodes_vals=int_val_nodes)\n",
    "\n",
    "# get average results of interventions\n",
    "ATE_dataset =  np.round((interventional_dataset1 - interventional_dataset0).mean(), 3)\n",
    "\n",
    "print('Estimated effect:', ATE_dataset['M'], ' True effect:', true_empirical_effect_xm,\n",
    "      ' Error on ATE: ', np.round(abs(ATE_dataset['M'] - true_empirical_effect_xm), 3))"
   ]
  },
  {
   "cell_type": "markdown",
   "id": "ffbacd2a",
   "metadata": {},
   "source": [
    "## Getting some bootstraps:"
   ]
  },
  {
   "cell_type": "code",
   "execution_count": null,
   "id": "ae82afd4",
   "metadata": {},
   "outputs": [
    {
     "name": "stderr",
     "output_type": "stream",
     "text": [
      " 20%|██        | 6/30 [00:57<03:49,  9.55s/it]"
     ]
    }
   ],
   "source": [
    "bootstraps = 30\n",
    "bootstrap_subsample_size =  int(0.6 * N)\n",
    "k = 4\n",
    "    \n",
    "ATE_estimates = []\n",
    "for i in tqdm.tqdm(range(bootstraps)):\n",
    "    seed += 1\n",
    "    bootstrap_data = df.sample(n=bootstrap_subsample_size, replace=True)\n",
    "\n",
    "    daglearner = DAGLearner(dag=DAG, k=k, var_types=var_types, seed=seed)\n",
    "    # fit the daglearner:\n",
    "    daglearner.fit(data=bootstrap_data, verbose=False)\n",
    "\n",
    "    # estimate all ATEs for do(0) and do(1) interventions:\n",
    "    ATEs = daglearner.get_0_1_ATE(data=bootstrap_data)\n",
    "    ATE_estimates.append(ATEs['X->M']) # this is the direct effect of X on M\n"
   ]
  },
  {
   "cell_type": "code",
   "execution_count": 8,
   "id": "b891d966",
   "metadata": {},
   "outputs": [
    {
     "data": {
      "image/png": "[encoded data removed]",
      "text/plain": [
       "<Figure size 576x432 with 1 Axes>"
      ]
     },
     "metadata": {
      "needs_background": "light"
     },
     "output_type": "display_data"
    }
   ],
   "source": [
    "ATE_estimates = np.asarray(ATE_estimates)\n",
    "# Calculate 2.5th and 97.5th percentiles for prediction intervals\n",
    "lower = np.percentile(ATE_estimates, 2.5)\n",
    "upper = np.percentile(ATE_estimates, 97.5)\n",
    "mean = ATE_estimates.mean()\n",
    "\n",
    "fig, ax = plt.subplots(figsize=(8,6))\n",
    "ax.errorbar(1, mean, yerr=[[mean - lower], [upper - mean]], fmt='o')\n",
    "ax.set_xlim(0, 2) \n",
    "ax.set_xlabel('X->M')\n",
    "ax.axhline(y=true_empirical_effect_xm, color='r', linestyle='--', label='True Empirical ATE')\n",
    "ax.set_ylabel('ATE')\n",
    "ax.set_title('Mean Prediction with 95% Confidence Interval')\n",
    "plt.ylim(0,1)\n",
    "plt.legend()\n",
    "x_pos = 1\n",
    "ax.set_xticks([])\n",
    "plt.grid()\n",
    "plt.show()"
   ]
  },
  {
   "cell_type": "markdown",
   "id": "160e09f0",
   "metadata": {},
   "source": [
    "### We also provide a function for the bootstrapping\n",
    "\n",
    "Some example usage of 'bootstrapper' function is given below."
   ]
  },
  {
   "cell_type": "code",
   "execution_count": 9,
   "id": "45021a3a",
   "metadata": {},
   "outputs": [
    {
     "name": "stderr",
     "output_type": "stream",
     "text": [
      "100%|██████████| 10/10 [00:00<00:00, 19.14it/s]\n",
      "100%|██████████| 10/10 [00:00<00:00, 25.83it/s]\n",
      "100%|██████████| 10/10 [00:00<00:00, 26.46it/s]\n"
     ]
    }
   ],
   "source": [
    "\n",
    "# this outputs all the ATE estimates for each bootstrap:\n",
    "bs_results_ATE = bootstrapper(num_bootstraps=10, subsample_size=bootstrap_subsample_size,\n",
    "                              k=k, data=df, dag=DAG, var_types=var_types, baseline=True)\n",
    "\n",
    "int_nodes_val =  int_nodes_val = int_val_nodes = {'X': 0}\n",
    "# by adding one more argument this outputs the interventional dataset for each bootstrap:\n",
    "bs_results_int = bootstrapper(num_bootstraps=10, subsample_size=bootstrap_subsample_size,\n",
    "                              k=k, int_nodes_val=int_nodes_val,\n",
    "                               data=df, dag=DAG, var_types=var_types, baseline=True)\n",
    "\n",
    "int_nodes_val = int_val_nodes = {'X': 0}\n",
    "int_nodes_valb = int_val_nodes = {'X': 1}\n",
    "# by adding one more argument this outputs the interventional DIFFERENCE/CONTRAST datasets for each bootstrap:\n",
    "bs_results_contrast = bootstrapper(num_bootstraps=10, subsample_size=bootstrap_subsample_size,\n",
    "                                   k=k, int_nodes_val=int_nodes_val,int_nodes_valb=int_nodes_valb,\n",
    "                                   data=df, dag=DAG, var_types=var_types, baseline=True)"
   ]
  },
  {
   "cell_type": "markdown",
   "id": "74f65f67",
   "metadata": {},
   "source": [
    "### Getting response curves\n",
    "\n",
    "As SuperLearners are non-linear, it makes sense to exploit this to generate a set of plots across a range of effect settings.\n",
    "\n",
    "The following example explores the ATE of X on M but for different values of RM, which is an interaction term."
   ]
  },
  {
   "cell_type": "code",
   "execution_count": 14,
   "id": "da26869a",
   "metadata": {},
   "outputs": [
    {
     "name": "stdout",
     "output_type": "stream",
     "text": [
      "Training DAGLearner models\n",
      "Training model for var: Z5\n",
      "r2 : 0.009516883404233734\n",
      "mae : 0.7698890118808891\n",
      "mse : 0.933395520279189\n",
      "expl_var : 0.009540935381334048\n",
      "medae : 0.651988059130013\n",
      "Training model for var: X\n",
      "acc : 0.8783333333333333\n",
      "balacc : 0.6382579372653815\n",
      "prec : 0.7941176470588235\n",
      "rec : 0.2903225806451613\n",
      "f1 : 0.4251968503937008\n",
      "Training model for var: M\n",
      "r2 : 0.7615855834371492\n",
      "mae : 0.12692337828824013\n",
      "mse : 0.024701118019008022\n",
      "expl_var : 0.761589543745935\n",
      "medae : 0.11149264466737191\n",
      "Training model for var: Y\n",
      "r2 : 0.9992702417446023\n",
      "mae : 0.046471410679727154\n",
      "mse : 0.0023234268388173953\n",
      "expl_var : 0.999270243814116\n",
      "medae : 0.04725823566110438\n",
      "Training model for var: C\n",
      "r2 : 0.8838499089323171\n",
      "mae : 0.3279824910227102\n",
      "mse : 0.17117005097521296\n",
      "expl_var : 0.8838499203008636\n",
      "medae : 0.2816288658053454\n",
      "Generating Interventions\n"
     ]
    },
    {
     "data": {
      "image/png": "[encoded data removed]",
      "text/plain": [
       "<Figure size 432x288 with 1 Axes>"
      ]
     },
     "metadata": {
      "needs_background": "light"
     },
     "output_type": "display_data"
    }
   ],
   "source": [
    "# varying treatment level:\n",
    "increment = 0.2\n",
    "t1s = np.arange(-1, 1, increment)\n",
    "k = 4\n",
    "print('Training DAGLearner models')\n",
    "daglearner = DAGLearner(dag=DAG, k=k, var_types=var_types)\n",
    "daglearner.fit(data=df, verbose=True)\n",
    "\n",
    "\n",
    "effects = []\n",
    "print('Generating Interventions')\n",
    "for t in range(len(t1s)):\n",
    "    t1 = t1s[t]\n",
    "    int_val_nodes0 = {'X': 0, 'RM':t1} # here we intervene on the moderator RM as well as X\n",
    "    interventional_dataset0 = daglearner.infer(data=df, intervention_nodes_vals=int_val_nodes0)\n",
    "    int_val_nodes1 = {'X': 1, 'RM':t1}\n",
    "    interventional_dataset1 = daglearner.infer(data=df, intervention_nodes_vals=int_val_nodes1)\n",
    "    \n",
    "    # get average results of interventions\n",
    "    effect = (interventional_dataset1['M'] - interventional_dataset0['M']).mean()\n",
    "    effects.append(effect)\n",
    "\n",
    "\n",
    "plt.plot(t1s, effects)\n",
    "plt.ylabel('ATE')\n",
    "plt.axhline(y=true_empirical_effect_xm, color='r', linestyle='--', label='X->M ATE')\n",
    "plt.xlabel('Value of Moderator RM')\n",
    "plt.legend()\n",
    "plt.grid()\n",
    "plt.show()"
   ]
  },
  {
   "cell_type": "markdown",
   "id": "3f61320c",
   "metadata": {},
   "source": [
    "## Combining Bootstrapping witht the non-linear effect estimation\n",
    "\n",
    "We can run the above treatment effect estimation but with the bootstrapping, to obtain CIs\n",
    "(this is computationally expensive)"
   ]
  },
  {
   "cell_type": "code",
   "execution_count": 4,
   "id": "e132ae53",
   "metadata": {},
   "outputs": [
    {
     "name": "stdout",
     "output_type": "stream",
     "text": [
      "Iteration: 0\n"
     ]
    },
    {
     "name": "stderr",
     "output_type": "stream",
     "text": [
      "100%|██████████| 20/20 [02:52<00:00,  8.60s/it]\n"
     ]
    },
    {
     "name": "stdout",
     "output_type": "stream",
     "text": [
      "Iteration: 1\n"
     ]
    },
    {
     "name": "stderr",
     "output_type": "stream",
     "text": [
      "100%|██████████| 20/20 [02:49<00:00,  8.49s/it]\n"
     ]
    },
    {
     "name": "stdout",
     "output_type": "stream",
     "text": [
      "Iteration: 2\n"
     ]
    },
    {
     "name": "stderr",
     "output_type": "stream",
     "text": [
      "100%|██████████| 20/20 [02:51<00:00,  8.55s/it]\n"
     ]
    },
    {
     "name": "stdout",
     "output_type": "stream",
     "text": [
      "Iteration: 3\n"
     ]
    },
    {
     "name": "stderr",
     "output_type": "stream",
     "text": [
      "100%|██████████| 20/20 [02:51<00:00,  8.55s/it]\n"
     ]
    },
    {
     "name": "stdout",
     "output_type": "stream",
     "text": [
      "Iteration: 4\n"
     ]
    },
    {
     "name": "stderr",
     "output_type": "stream",
     "text": [
      "100%|██████████| 20/20 [02:50<00:00,  8.54s/it]\n"
     ]
    },
    {
     "name": "stdout",
     "output_type": "stream",
     "text": [
      "Iteration: 5\n"
     ]
    },
    {
     "name": "stderr",
     "output_type": "stream",
     "text": [
      "100%|██████████| 20/20 [02:54<00:00,  8.71s/it]\n"
     ]
    },
    {
     "name": "stdout",
     "output_type": "stream",
     "text": [
      "Iteration: 6\n"
     ]
    },
    {
     "name": "stderr",
     "output_type": "stream",
     "text": [
      "100%|██████████| 20/20 [02:52<00:00,  8.61s/it]\n"
     ]
    },
    {
     "name": "stdout",
     "output_type": "stream",
     "text": [
      "Iteration: 7\n"
     ]
    },
    {
     "name": "stderr",
     "output_type": "stream",
     "text": [
      "100%|██████████| 20/20 [02:53<00:00,  8.68s/it]\n"
     ]
    },
    {
     "name": "stdout",
     "output_type": "stream",
     "text": [
      "Iteration: 8\n"
     ]
    },
    {
     "name": "stderr",
     "output_type": "stream",
     "text": [
      "100%|██████████| 20/20 [02:51<00:00,  8.56s/it]\n"
     ]
    },
    {
     "name": "stdout",
     "output_type": "stream",
     "text": [
      "Iteration: 9\n"
     ]
    },
    {
     "name": "stderr",
     "output_type": "stream",
     "text": [
      "100%|██████████| 20/20 [02:52<00:00,  8.62s/it]\n"
     ]
    },
    {
     "data": {
      "image/png": "[encoded data removed]",
      "text/plain": [
       "<Figure size 576x432 with 1 Axes>"
      ]
     },
     "metadata": {
      "needs_background": "light"
     },
     "output_type": "display_data"
    }
   ],
   "source": [
    "\n",
    "bootstraps = 20\n",
    "bootstrap_subsample_size = int(0.6 * N)\n",
    "k = 4\n",
    "\n",
    "# varying treatment level:\n",
    "increment = 0.2\n",
    "t1s = np.arange(-1, 1, increment)\n",
    "\n",
    "effects = []\n",
    "uppers = []\n",
    "lowers = []\n",
    "\n",
    "for t in range(len(t1s)):  # outer loop for each intended intervention size\n",
    "    print('Iteration:', t)\n",
    "    t1 = t1s[t]\n",
    "       \n",
    "    int_val_nodes0 = {'X': 0, 'RM':t1}\n",
    "    int_val_nodes1 = {'X': 1, 'RM':t1}\n",
    "    \n",
    "    bs_results_contrast = bootstrapper(num_bootstraps=bootstraps, subsample_size=bootstrap_subsample_size,\n",
    "                                   k=k, int_nodes_val=int_val_nodes0, int_nodes_valb=int_val_nodes1,\n",
    "                                   data=df, dag=DAG, var_types=var_types, baseline=False)\n",
    "    ATE_estimates = []\n",
    "    for i in range(bootstraps):\n",
    "         # extracts the bootstrapped effects of the intervention(s) on variable 'M'\n",
    "        ATE_estimates.append(bs_results_contrast[i]['M'].mean()) \n",
    "        \n",
    "    ATE_estimates = np.asarray(ATE_estimates)\n",
    "    lower = np.percentile(ATE_estimates, 2.5)\n",
    "    upper = np.percentile(ATE_estimates, 97.5)\n",
    "    mean = ATE_estimates.mean()\n",
    "    \n",
    "    # append the results for this particular intervention size\n",
    "    effects.append(mean)\n",
    "    lowers.append(lower)\n",
    "    uppers.append(upper)\n",
    "    \n",
    "\n",
    "lowers = np.asarray(effects) - np.asarray(lowers)\n",
    "uppers = np.asarray(uppers) - np.asarray(effects)\n",
    "\n",
    "plt.figure(figsize=(8,6))\n",
    "plt.errorbar(t1s, effects, yerr=[lowers, uppers], fmt='o', capsize=5)\n",
    "plt.axhline(y=true_empirical_effect_xm, color='r', linestyle='--', label='X->M ATE')\n",
    "plt.xlabel('Value of Moderator RM')\n",
    "plt.ylabel('ATE')\n",
    "plt.grid(True)\n",
    "plt.tight_layout()\n",
    "plt.savefig('bootstrapped_moderation.png', dpi=160)\n",
    "plt.show()  \n",
    "    "
   ]
  },
  {
   "cell_type": "code",
   "execution_count": null,
   "id": "5256810c",
   "metadata": {},
   "outputs": [],
   "source": []
  },
  {
   "cell_type": "code",
   "execution_count": null,
   "id": "8c0a1bef",
   "metadata": {},
   "outputs": [],
   "source": []
  },
  {
   "cell_type": "code",
   "execution_count": null,
   "id": "c14a65c5",
   "metadata": {},
   "outputs": [],
   "source": []
  },
  {
   "cell_type": "code",
   "execution_count": null,
   "id": "94cd2bcd",
   "metadata": {},
   "outputs": [],
   "source": []
  }
 ],
 "metadata": {
  "kernelspec": {
   "display_name": "Python [conda env:nlp_gpt_env]",
   "language": "python",
   "name": "conda-env-nlp_gpt_env-py"
  },
  "language_info": {
   "codemirror_mode": {
    "name": "ipython",
    "version": 3
   },
   "file_extension": ".py",
   "mimetype": "text/x-python",
   "name": "python",
   "nbconvert_exporter": "python",
   "pygments_lexer": "ipython3",
   "version": "3.9.16"
  }
 },
 "nbformat": 4,
 "nbformat_minor": 5
}
